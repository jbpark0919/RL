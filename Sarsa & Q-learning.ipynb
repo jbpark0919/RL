{
 "cells": [
  {
   "cell_type": "code",
   "execution_count": 112,
   "id": "150881b2",
   "metadata": {
    "ExecuteTime": {
     "end_time": "2025-04-21T11:56:08.401710Z",
     "start_time": "2025-04-21T11:56:08.389026Z"
    },
    "scrolled": true
   },
   "outputs": [],
   "source": [
    "import numpy as np\n",
    "import pandas as pd\n",
    "import random\n",
    "from collections import defaultdict\n",
    "import gym\n",
    "import gym_minigrid\n",
    "import matplotlib.pyplot as plt\n",
    "%matplotlib inline"
   ]
  },
  {
   "cell_type": "code",
   "execution_count": 113,
   "id": "d4ae951f",
   "metadata": {
    "ExecuteTime": {
     "end_time": "2025-04-21T11:56:08.611043Z",
     "start_time": "2025-04-21T11:56:08.604111Z"
    }
   },
   "outputs": [],
   "source": [
    "def save_log(message, file_path):\n",
    "    with open(file_path, \"a\") as f:\n",
    "        f.write(message + \"\\n\")"
   ]
  },
  {
   "cell_type": "code",
   "execution_count": 114,
   "id": "bb3475c0",
   "metadata": {
    "ExecuteTime": {
     "end_time": "2025-04-21T11:56:08.888414Z",
     "start_time": "2025-04-21T11:56:08.868704Z"
    },
    "scrolled": true
   },
   "outputs": [],
   "source": [
    "class QLearning:\n",
    "    def __init__(self, actions, agent_indicator=10):\n",
    "        self.actions = actions\n",
    "        self.agent_indicator = agent_indicator\n",
    "        self.alpha = 0.01\n",
    "        self.gamma = 0.9\n",
    "        self.epsilon = 0.2\n",
    "        self.q_values = defaultdict(lambda: [0.0] * actions)\n",
    "\n",
    "    def _convert_state(self, s):\n",
    "        return np.where(s == self.agent_indicator)[0][0]\n",
    "\n",
    "    def update(self, state, action, reward, next_state, next_action):\n",
    "        state = self._convert_state(state)\n",
    "        next_state = self._convert_state(next_state)\n",
    "\n",
    "        q_value = self.q_values[state][action]\n",
    "\n",
    "        ########################## Write Code ####################################\n",
    "        next_q_value = max(self.q_values[next_state])\n",
    "        td_error = reward + self.gamma * next_q_value - q_value\n",
    "        self.q_values[state][action] = q_value + self.alpha * td_error\n",
    "\n",
    "        ###########################################################################\n",
    "    def act(self, state):\n",
    "        #################### Write epsilion greedy code ###########################\n",
    "        if np.random.rand() < self.epsilon:\n",
    "            action = np.random.choice(self.actions)\n",
    "        else:\n",
    "            state = self._convert_state(state)\n",
    "            q_values = self.q_values[state]\n",
    "            action = int(np.argmax(q_values))\n",
    "        ###########################################################################\n",
    "        return action"
   ]
  },
  {
   "cell_type": "code",
   "execution_count": 115,
   "id": "90706d6e",
   "metadata": {
    "ExecuteTime": {
     "end_time": "2025-04-21T11:56:09.078867Z",
     "start_time": "2025-04-21T11:56:09.073521Z"
    },
    "scrolled": true
   },
   "outputs": [],
   "source": [
    "from utils import gen_wrapped_env, show_video"
   ]
  },
  {
   "cell_type": "code",
   "execution_count": 116,
   "id": "d048dbff",
   "metadata": {
    "ExecuteTime": {
     "end_time": "2025-04-21T11:56:09.492854Z",
     "start_time": "2025-04-21T11:56:09.346976Z"
    },
    "scrolled": true
   },
   "outputs": [],
   "source": [
    "env = gen_wrapped_env('MiniGrid-Empty-6x6-v0')\n",
    "# env = gen_wrapped_env('MiniGrid-DoorKey-5x5-v0')\n",
    "\n",
    "obs = env.reset()\n",
    "\n",
    "agent_position = obs[0]\n",
    "\n",
    "q_agent = QLearning(4, agent_position)"
   ]
  },
  {
   "cell_type": "code",
   "execution_count": null,
   "id": "f7e8c55c",
   "metadata": {
    "ExecuteTime": {
     "start_time": "2025-04-21T11:56:08.208Z"
    },
    "scrolled": true
   },
   "outputs": [
    {
     "name": "stdout",
     "output_type": "stream",
     "text": [
      "Episode: 20, Q-Learning rewards: 0\n",
      "Episode: 40, Q-Learning rewards: 0\n",
      "Episode: 60, Q-Learning rewards: 0\n",
      "Episode: 80, Q-Learning rewards: 0\n",
      "Episode: 100, Average Q-value: 0.0\n",
      "Episode: 100, Q-Learning rewards: 0\n",
      "Episode: 120, Q-Learning rewards: 0\n",
      "Episode: 140, Q-Learning rewards: 0\n",
      "Episode: 160, Q-Learning rewards: 0\n",
      "Episode: 180, Q-Learning rewards: 0\n",
      "Episode: 200, Average Q-value: 1.966666666666667e-05\n",
      "Episode: 200, Q-Learning rewards: 0\n",
      "Episode: 220, Q-Learning rewards: 0\n",
      "Episode: 240, Q-Learning rewards: 0\n",
      "Episode: 260, Q-Learning rewards: 0\n",
      "Episode: 280, Q-Learning rewards: 0\n",
      "Episode: 300, Average Q-value: 1.84375e-05\n",
      "Episode: 300, Q-Learning rewards: 0\n",
      "Episode: 320, Q-Learning rewards: 0\n",
      "Episode: 340, Q-Learning rewards: 0\n",
      "Episode: 360, Q-Learning rewards: 0\n",
      "Episode: 380, Q-Learning rewards: 0\n",
      "Episode: 400, Average Q-value: 1.84375e-05\n",
      "Episode: 400, Q-Learning rewards: 0\n",
      "Episode: 420, Q-Learning rewards: 0\n",
      "Episode: 440, Q-Learning rewards: 0\n",
      "Episode: 460, Q-Learning rewards: 0\n",
      "Episode: 480, Q-Learning rewards: 0\n",
      "Episode: 500, Average Q-value: 1.84375e-05\n",
      "Episode: 500, Q-Learning rewards: 0\n",
      "Episode: 520, Q-Learning rewards: 0\n",
      "Episode: 540, Q-Learning rewards: 0\n",
      "Episode: 560, Q-Learning rewards: 0\n",
      "Episode: 580, Q-Learning rewards: 0\n",
      "Episode: 600, Average Q-value: 1.84375e-05\n",
      "Episode: 600, Q-Learning rewards: 0\n",
      "Episode: 620, Q-Learning rewards: 0\n",
      "Episode: 640, Q-Learning rewards: 0\n",
      "Episode: 660, Q-Learning rewards: 0\n",
      "Episode: 680, Q-Learning rewards: 0\n",
      "Episode: 700, Average Q-value: 9.05331981642429e-05\n",
      "Episode: 700, Q-Learning rewards: 0\n",
      "Episode: 720, Q-Learning rewards: 0\n",
      "Episode: 740, Q-Learning rewards: 0\n",
      "Episode: 760, Q-Learning rewards: 0\n",
      "Episode: 780, Q-Learning rewards: 0.73\n",
      "Episode: 800, Average Q-value: 0.0012372304307958172\n",
      "Episode: 800, Q-Learning rewards: 0.784\n",
      "Episode: 820, Q-Learning rewards: 0\n",
      "Episode: 840, Q-Learning rewards: 0\n",
      "Episode: 860, Q-Learning rewards: 0.766\n",
      "Episode: 880, Q-Learning rewards: 0\n",
      "Episode: 900, Average Q-value: 0.006250099849735232\n",
      "Episode: 900, Q-Learning rewards: 0\n",
      "Episode: 920, Q-Learning rewards: 0.6579999999999999\n",
      "Episode: 940, Q-Learning rewards: 0\n",
      "Episode: 960, Q-Learning rewards: 0\n",
      "Episode: 980, Q-Learning rewards: 0.586\n",
      "Episode: 1000, Average Q-value: 0.011645315695138683\n",
      "Episode: 1000, Q-Learning rewards: 0.33399999999999996\n",
      "Episode: 1020, Q-Learning rewards: 0.20799999999999996\n",
      "Episode: 1040, Q-Learning rewards: 0\n",
      "Episode: 1060, Q-Learning rewards: 0\n",
      "Episode: 1080, Q-Learning rewards: 0.262\n",
      "Episode: 1100, Average Q-value: 0.016649448345276728\n",
      "Episode: 1100, Q-Learning rewards: 0.604\n",
      "Episode: 1120, Q-Learning rewards: 0\n",
      "Episode: 1140, Q-Learning rewards: 0\n",
      "Episode: 1160, Q-Learning rewards: 0.6579999999999999\n",
      "Episode: 1180, Q-Learning rewards: 0.748\n",
      "Episode: 1200, Average Q-value: 0.021701492595597414\n",
      "Episode: 1200, Q-Learning rewards: 0.6759999999999999\n",
      "Episode: 1220, Q-Learning rewards: 0\n",
      "Episode: 1240, Q-Learning rewards: 0\n",
      "Episode: 1260, Q-Learning rewards: 0\n",
      "Episode: 1280, Q-Learning rewards: 0.604\n",
      "Episode: 1300, Average Q-value: 0.026343577835351274\n",
      "Episode: 1300, Q-Learning rewards: 0\n",
      "Episode: 1320, Q-Learning rewards: 0\n",
      "Episode: 1340, Q-Learning rewards: 0\n",
      "Episode: 1360, Q-Learning rewards: 0\n",
      "Episode: 1380, Q-Learning rewards: 0.29799999999999993\n",
      "Episode: 1400, Average Q-value: 0.030374081116912786\n",
      "Episode: 1400, Q-Learning rewards: 0\n",
      "Episode: 1420, Q-Learning rewards: 0\n",
      "Episode: 1440, Q-Learning rewards: 0.45999999999999996\n",
      "Episode: 1460, Q-Learning rewards: 0.838\n",
      "Episode: 1480, Q-Learning rewards: 0\n",
      "Episode: 1500, Average Q-value: 0.03431833235103203\n",
      "Episode: 1500, Q-Learning rewards: 0\n",
      "Episode: 1520, Q-Learning rewards: 0\n",
      "Episode: 1540, Q-Learning rewards: 0\n",
      "Episode: 1560, Q-Learning rewards: 0.352\n",
      "Episode: 1580, Q-Learning rewards: 0.244\n",
      "Episode: 1600, Average Q-value: 0.03837423136744342\n",
      "Episode: 1600, Q-Learning rewards: 0.478\n",
      "Episode: 1620, Q-Learning rewards: 0\n",
      "Episode: 1640, Q-Learning rewards: 0.42399999999999993\n",
      "Episode: 1660, Q-Learning rewards: 0\n",
      "Episode: 1680, Q-Learning rewards: 0\n",
      "Episode: 1700, Average Q-value: 0.04293096358431758\n",
      "Episode: 1700, Q-Learning rewards: 0\n",
      "Episode: 1720, Q-Learning rewards: 0.784\n",
      "Episode: 1740, Q-Learning rewards: 0\n",
      "Episode: 1760, Q-Learning rewards: 0\n",
      "Episode: 1780, Q-Learning rewards: 0.2799999999999999\n",
      "Episode: 1800, Average Q-value: 0.046430344873109104\n",
      "Episode: 1800, Q-Learning rewards: 0.31599999999999995\n",
      "Episode: 1820, Q-Learning rewards: 0\n",
      "Episode: 1840, Q-Learning rewards: 0\n",
      "Episode: 1860, Q-Learning rewards: 0.6759999999999999\n",
      "Episode: 1880, Q-Learning rewards: 0\n",
      "Episode: 1900, Average Q-value: 0.04930304091529125\n",
      "Episode: 1900, Q-Learning rewards: 0\n",
      "Episode: 1920, Q-Learning rewards: 0.82\n",
      "Episode: 1940, Q-Learning rewards: 0\n",
      "Episode: 1960, Q-Learning rewards: 0.748\n",
      "Episode: 1980, Q-Learning rewards: 0.784\n",
      "Episode: 2000, Average Q-value: 0.053545941459894594\n",
      "Episode: 2000, Q-Learning rewards: 0.82\n",
      "Episode: 2020, Q-Learning rewards: 0\n",
      "Episode: 2040, Q-Learning rewards: 0\n",
      "Episode: 2060, Q-Learning rewards: 0.31599999999999995\n",
      "Episode: 2080, Q-Learning rewards: 0\n",
      "Episode: 2100, Average Q-value: 0.05537869057060929\n",
      "Episode: 2100, Q-Learning rewards: 0.45999999999999996\n",
      "Episode: 2120, Q-Learning rewards: 0.17199999999999993\n",
      "Episode: 2140, Q-Learning rewards: 0.15400000000000003\n",
      "Episode: 2160, Q-Learning rewards: 0.33399999999999996\n",
      "Episode: 2180, Q-Learning rewards: 0.20799999999999996\n",
      "Episode: 2200, Average Q-value: 0.05784255314449298\n",
      "Episode: 2200, Q-Learning rewards: 0.5680000000000001\n",
      "Episode: 2220, Q-Learning rewards: 0.352\n",
      "Episode: 2240, Q-Learning rewards: 0.856\n",
      "Episode: 2260, Q-Learning rewards: 0.262\n",
      "Episode: 2280, Q-Learning rewards: 0\n",
      "Episode: 2300, Average Q-value: 0.06058875302191987\n",
      "Episode: 2300, Q-Learning rewards: 0\n",
      "Episode: 2320, Q-Learning rewards: 0\n",
      "Episode: 2340, Q-Learning rewards: 0.136\n",
      "Episode: 2360, Q-Learning rewards: 0.748\n",
      "Episode: 2380, Q-Learning rewards: 0.22599999999999998\n",
      "Episode: 2400, Average Q-value: 0.06357396525908005\n",
      "Episode: 2400, Q-Learning rewards: 0.748\n",
      "Episode: 2420, Q-Learning rewards: 0\n",
      "Episode: 2440, Q-Learning rewards: 0.784\n",
      "Episode: 2460, Q-Learning rewards: 0\n",
      "Episode: 2480, Q-Learning rewards: 0.37\n",
      "Episode: 2500, Average Q-value: 0.06537813969736403\n",
      "Episode: 2500, Q-Learning rewards: 0\n",
      "Episode: 2520, Q-Learning rewards: 0.784\n",
      "Episode: 2540, Q-Learning rewards: 0.73\n",
      "Episode: 2560, Q-Learning rewards: 0\n",
      "Episode: 2580, Q-Learning rewards: 0.838\n",
      "Episode: 2600, Average Q-value: 0.06848356688376342\n",
      "Episode: 2600, Q-Learning rewards: 0.73\n",
      "Episode: 2620, Q-Learning rewards: 0.6759999999999999\n",
      "Episode: 2640, Q-Learning rewards: 0.09999999999999998\n",
      "Episode: 2660, Q-Learning rewards: 0.17199999999999993\n",
      "Episode: 2680, Q-Learning rewards: 0\n",
      "Episode: 2700, Average Q-value: 0.07096739416041216\n",
      "Episode: 2700, Q-Learning rewards: 0\n",
      "Episode: 2720, Q-Learning rewards: 0.5680000000000001\n"
     ]
    }
   ],
   "source": [
    "q_rewards = []\n",
    "q_values_over_time = []\n",
    "\n",
    "for ep in range(300000):\n",
    "    done = False\n",
    "    obs = env.reset()\n",
    "    q_action = q_agent.act(obs)\n",
    "    q_ep_rewards = 0\n",
    "\n",
    "    while not done:\n",
    "        next_obs, reward, done, info = env.step(q_action)\n",
    "        next_action = q_agent.act(next_obs)\n",
    "        q_agent.update(obs, q_action, reward, next_obs, next_action)\n",
    "\n",
    "        q_ep_rewards += reward\n",
    "        obs = next_obs\n",
    "        q_action = next_action\n",
    "\n",
    "    q_rewards.append(q_ep_rewards)\n",
    "\n",
    "    # Q-value 수렴 시각화를 위한 평균 Q 저장\n",
    "    if (ep + 1) % 100 == 0:\n",
    "        all_qs = [q for qs in q_agent.q_values.values() for q in qs]\n",
    "        avg_q = np.mean(all_qs)\n",
    "        q_values_over_time.append(avg_q)\n",
    "        \n",
    "        q_log_msg = f\"Episode: {ep + 1}, Average Q-value: {avg_q}\"\n",
    "        print(q_log_msg)\n",
    "        save_log(q_log_msg, \"./logs/q_values_log_q.txt\")\n",
    "\n",
    "    if (ep + 1) % 20 == 0:\n",
    "        log_msg = f\"Episode: {ep + 1}, Q-Learning rewards: {q_ep_rewards}\"\n",
    "        print(log_msg)\n",
    "        save_log(log_msg, \"./logs/training_log_q.txt\")\n",
    "\n",
    "env.close()"
   ]
  },
  {
   "cell_type": "code",
   "execution_count": null,
   "id": "a086e2cd",
   "metadata": {
    "ExecuteTime": {
     "start_time": "2025-04-21T11:56:08.518Z"
    }
   },
   "outputs": [],
   "source": [
    "{s:np.round(q, 5).tolist() for s, q in q_agent.q_values.items()}"
   ]
  },
  {
   "cell_type": "code",
   "execution_count": null,
   "id": "7a7c3f97-977c-459d-898b-c3db19acee5a",
   "metadata": {
    "ExecuteTime": {
     "start_time": "2025-04-21T11:56:08.894Z"
    }
   },
   "outputs": [],
   "source": [
    "show_video()"
   ]
  },
  {
   "cell_type": "code",
   "execution_count": null,
   "id": "42787cff",
   "metadata": {
    "ExecuteTime": {
     "start_time": "2025-04-21T11:56:09.166Z"
    }
   },
   "outputs": [],
   "source": [
    "pd.Series(q_rewards).to_csv('./logs/rewards_qlearning.csv')\n",
    "\n",
    "q_table_dict = {str(s): [round(v, 5) for v in q] for s, q in q_agent.q_values.items()}\n",
    "with open('./logs/q_table_qlearning.json', 'w') as f:\n",
    "    json.dump(q_table_dict, f, indent=2)\n",
    "    \n",
    "policy = {str(s): int(np.argmax(q)) for s, q in q_agent.q_values.items()}\n",
    "with open('./logs/policy_qlearning.json', 'w') as f:\n",
    "    json.dump(policy, f, indent=2)"
   ]
  },
  {
   "cell_type": "code",
   "execution_count": null,
   "id": "c7a4574f-5d90-4a57-9330-332148d31a47",
   "metadata": {
    "ExecuteTime": {
     "start_time": "2025-04-21T11:56:09.502Z"
    }
   },
   "outputs": [],
   "source": [
    "q_logs = pd.read_csv('./logs/rewards_qlearning.csv', index_col=False).iloc[:, 1]"
   ]
  },
  {
   "cell_type": "code",
   "execution_count": null,
   "id": "43dc92ab",
   "metadata": {
    "ExecuteTime": {
     "start_time": "2025-04-21T11:56:09.952Z"
    }
   },
   "outputs": [],
   "source": [
    "plt.figure(figsize=(16, 8))\n",
    "plt.plot(q_logs.cumsum() / (pd.Series(np.arange(q_logs.shape[0]))+1), label=\"QLearning\")\n",
    "plt.legend()"
   ]
  },
  {
   "cell_type": "code",
   "execution_count": 138,
   "id": "97465f27",
   "metadata": {
    "ExecuteTime": {
     "end_time": "2025-04-22T02:10:59.392173Z",
     "start_time": "2025-04-22T02:10:59.064654Z"
    }
   },
   "outputs": [
    {
     "data": {
      "image/png": "[encoded data removed]",
      "text/plain": [
       "<Figure size 640x480 with 1 Axes>"
      ]
     },
     "metadata": {},
     "output_type": "display_data"
    }
   ],
   "source": [
    "episodes = []\n",
    "avg_q_values = []\n",
    "\n",
    "# 로그 파일 불러오기\n",
    "with open(\"./logs/q_values_log_q.txt\", \"r\") as f:\n",
    "    for line in f:\n",
    "        if \"Episode:\" in line and \"Average Q-value:\" in line:\n",
    "            parts = line.strip().split(\", \")\n",
    "            ep = int(parts[0].split(\": \")[1])\n",
    "            q_val = float(parts[1].split(\": \")[1])\n",
    "            episodes.append(ep)\n",
    "            avg_q_values.append(q_val)\n",
    "\n",
    "# 그래프 그리기\n",
    "plt.figure()\n",
    "plt.plot(episodes, avg_q_values)\n",
    "plt.title(\"Q-value Convergence\")\n",
    "plt.xlabel(\"Episode\")\n",
    "plt.ylabel(\"Avg Q-value\")\n",
    "plt.grid()\n",
    "plt.savefig(\"./logs/plots/q_value_convergence.png\")\n",
    "plt.show()"
   ]
  },
  {
   "cell_type": "code",
   "execution_count": null,
   "id": "fac192f0",
   "metadata": {
    "ExecuteTime": {
     "start_time": "2025-04-21T11:56:10.782Z"
    }
   },
   "outputs": [],
   "source": [
    "class SARSA:\n",
    "    def __init__(self, actions, agent_indicator=10):\n",
    "        self.actions = actions\n",
    "        self.agent_indicator = agent_indicator\n",
    "\n",
    "        self.alpha = 0.01\n",
    "        self.gamma = 0.9\n",
    "        self.epsilon = 0.2\n",
    "        self.q_values = defaultdict(lambda: [0.0] * actions)\n",
    "\n",
    "    def _convert_state(self, s):\n",
    "        return np.where(s == self.agent_indicator)[0][0]\n",
    "\n",
    "    def update(self, state, action, reward, next_state, next_action):\n",
    "        state = self._convert_state(state)\n",
    "        next_state = self._convert_state(next_state)\n",
    "\n",
    "        q_value = self.q_values[state][action]\n",
    "\n",
    "        ########################## Write Code ####################################\n",
    "        next_q_value = self.q_values[next_state][next_action]\n",
    "        td_error = reward + self.gamma * next_q_value - q_value\n",
    "        self.q_values[state][action] = q_value + self.alpha * td_error\n",
    "\n",
    "        ###########################################################################\n",
    "    def act(self, state):\n",
    "        #################### Write epsilion greedy code ###########################\n",
    "        if np.random.rand() < self.epsilon:\n",
    "            action = np.random.choice(self.actions)\n",
    "        else:\n",
    "            state = self._convert_state(state)\n",
    "            q_values = self.q_values[state]\n",
    "            action = int(np.argmax(q_values))\n",
    "        ###########################################################################\n",
    "        return action"
   ]
  },
  {
   "cell_type": "code",
   "execution_count": null,
   "id": "0ac1f53b-432b-443c-8798-4682ac07b98b",
   "metadata": {
    "ExecuteTime": {
     "start_time": "2025-04-21T11:56:11.118Z"
    }
   },
   "outputs": [],
   "source": [
    "env = gen_wrapped_env('MiniGrid-Empty-6x6-v0')\n",
    "# env = gen_wrapped_env('MiniGrid-DoorKey-5x5-v0')\n",
    "\n",
    "obs = env.reset()\n",
    "\n",
    "agent_position = obs[0]\n",
    "\n",
    "sarsa_agent = SARSA(4, agent_position)"
   ]
  },
  {
   "cell_type": "code",
   "execution_count": null,
   "id": "2861feca-0d1d-475b-8346-3e97884b3e76",
   "metadata": {
    "ExecuteTime": {
     "start_time": "2025-04-21T11:56:11.536Z"
    }
   },
   "outputs": [],
   "source": [
    "sarsa_rewards = []\n",
    "sarsa_q_values_over_time = []\n",
    "\n",
    "for ep in range(300000):\n",
    "    done = False\n",
    "    obs = env.reset()\n",
    "    sarsa_action = sarsa_agent.act(obs)\n",
    "    sarsa_ep_rewards = 0\n",
    "\n",
    "    while not done:\n",
    "        next_obs, reward, done, info = env.step(sarsa_action)\n",
    "        next_action = sarsa_agent.act(next_obs)\n",
    "        sarsa_agent.update(obs, sarsa_action, reward, next_obs, next_action)\n",
    "\n",
    "        sarsa_ep_rewards += reward\n",
    "        obs = next_obs\n",
    "        sarsa_action = next_action\n",
    "\n",
    "    sarsa_rewards.append(sarsa_ep_rewards)\n",
    "\n",
    "    if (ep + 1) % 100 == 0:\n",
    "        all_qs = [q for qs in sarsa_agent.q_values.values() for q in qs]\n",
    "        avg_q = np.mean(all_qs)\n",
    "        sarsa_q_values_over_time.append(avg_q)\n",
    "        \n",
    "        q_log_msg = f\"Episode: {ep + 1}, Average Q-value: {avg_q}\"\n",
    "        print(q_log_msg)\n",
    "        save_log(q_log_msg, \"./logs/q_values_log_sarsa.txt\")\n",
    "\n",
    "    if (ep + 1) % 20 == 0:\n",
    "        log_msg = f\"Episode: {ep + 1}, SARSA rewards: {sarsa_ep_rewards}\"\n",
    "        print(log_msg)\n",
    "        save_log(log_msg, \"./logs/training_log_sarsa.txt\")\n",
    "\n",
    "env.close()"
   ]
  },
  {
   "cell_type": "code",
   "execution_count": null,
   "id": "40be413b-894b-4ceb-aab4-15b617346cd5",
   "metadata": {
    "ExecuteTime": {
     "start_time": "2025-04-21T11:56:12.078Z"
    }
   },
   "outputs": [],
   "source": [
    "{s:np.round(q, 5).tolist() for s, q in sarsa_agent.q_values.items()}"
   ]
  },
  {
   "cell_type": "code",
   "execution_count": null,
   "id": "a0870205",
   "metadata": {
    "ExecuteTime": {
     "start_time": "2025-04-21T11:56:12.358Z"
    }
   },
   "outputs": [],
   "source": [
    "print(\"Learned Q-table states:\", len(q_agent.q_values))\n",
    "print(\"Some state keys:\", list(q_agent.q_values.keys())[:10])"
   ]
  },
  {
   "cell_type": "code",
   "execution_count": null,
   "id": "77e3015b",
   "metadata": {
    "ExecuteTime": {
     "start_time": "2025-04-21T11:56:12.678Z"
    }
   },
   "outputs": [],
   "source": [
    "show_video()"
   ]
  },
  {
   "cell_type": "code",
   "execution_count": null,
   "id": "3feeaba9-2a1d-4a1d-8725-4373509c70b5",
   "metadata": {
    "ExecuteTime": {
     "start_time": "2025-04-21T11:56:13.030Z"
    }
   },
   "outputs": [],
   "source": [
    "pd.Series(sarsa_rewards).to_csv('./logs/rewards_sarsa.csv')\n",
    "\n",
    "q_table_dict = {str(s): [round(v, 5) for v in q] for s, q in sarsa_agent.q_values.items()}\n",
    "with open('./logs/q_table_sarsa.json', 'w') as f:\n",
    "    json.dump(q_table_dict, f, indent=2)\n",
    "    \n",
    "policy = {str(s): int(np.argmax(q)) for s, q in sarsa_agent.q_values.items()}\n",
    "with open('./logs/policy_sarsa.json', 'w') as f:\n",
    "    json.dump(policy, f, indent=2)"
   ]
  },
  {
   "cell_type": "code",
   "execution_count": null,
   "id": "da141489",
   "metadata": {
    "ExecuteTime": {
     "start_time": "2025-04-21T11:56:13.590Z"
    }
   },
   "outputs": [],
   "source": [
    "sarsa_logs = pd.read_csv('./logs/rewards_sarsa.csv', index_col=False).iloc[:, 1]"
   ]
  },
  {
   "cell_type": "code",
   "execution_count": null,
   "id": "ebfcf7cb-bf99-4900-95c1-af6bfb8f0138",
   "metadata": {
    "ExecuteTime": {
     "start_time": "2025-04-21T11:56:14.126Z"
    }
   },
   "outputs": [],
   "source": [
    "plt.figure(figsize=(16, 8))\n",
    "plt.plot(q_logs.cumsum() / (pd.Series(np.arange(q_logs.shape[0]))+1), label=\"QLearning\")\n",
    "plt.plot(sarsa_logs.cumsum() / (pd.Series(np.arange(sarsa_logs.shape[0]))+1), label=\"SARSA\")\n",
    "plt.legend()"
   ]
  },
  {
   "cell_type": "code",
   "execution_count": null,
   "id": "557426c2",
   "metadata": {
    "ExecuteTime": {
     "start_time": "2025-04-21T11:56:14.486Z"
    }
   },
   "outputs": [],
   "source": [
    "sarsa_episodes = []\n",
    "sarsa_avg_q_values = []\n",
    "\n",
    "# SARSA 로그 파일 불러오기\n",
    "with open(\"./logs/q_values_log_sarsa.txt\", \"r\") as f:\n",
    "    for line in f:\n",
    "        if \"Episode:\" in line and \"Average Q-value:\" in line:\n",
    "            parts = line.strip().split(\", \")\n",
    "            ep = int(parts[0].split(\": \")[1])\n",
    "            q_val = float(parts[1].split(\": \")[1])\n",
    "            sarsa_episodes.append(ep)\n",
    "            sarsa_avg_q_values.append(q_val)\n",
    "\n",
    "# 그래프 그리기\n",
    "plt.figure()\n",
    "plt.plot(sarsa_episodes, sarsa_avg_q_values)\n",
    "plt.title(\"SARSA Q-value Convergence\")\n",
    "plt.xlabel(\"Episode\")\n",
    "plt.ylabel(\"Avg Q-value\")\n",
    "plt.grid()\n",
    "plt.savefig(\"./logs/plots/sarsa_q_value_convergence.png\")\n",
    "plt.show()\n"
   ]
  },
  {
   "cell_type": "code",
   "execution_count": 139,
   "id": "3511597c",
   "metadata": {
    "ExecuteTime": {
     "end_time": "2025-04-22T03:04:57.067121Z",
     "start_time": "2025-04-22T03:04:56.658948Z"
    }
   },
   "outputs": [
    {
     "data": {
      "image/png": "[encoded data removed]",
      "text/plain": [
       "<Figure size 640x480 with 1 Axes>"
      ]
     },
     "metadata": {},
     "output_type": "display_data"
    }
   ],
   "source": [
    "episodes = []\n",
    "avg_q_values = []\n",
    "\n",
    "# Q-learning 로그 파일 불러오기\n",
    "with open(\"./logs/q_values_log_q.txt\", \"r\") as f:\n",
    "    for line in f:\n",
    "        if \"Episode:\" in line and \"Average Q-value:\" in line:\n",
    "            parts = line.strip().split(\", \")\n",
    "            ep = int(parts[0].split(\": \")[1])\n",
    "            q_val = float(parts[1].split(\": \")[1])\n",
    "            episodes.append(ep)\n",
    "            avg_q_values.append(q_val)\n",
    "\n",
    "sarsa_episodes = []\n",
    "sarsa_avg_q_values = []\n",
    "\n",
    "# SARSA 로그 파일 불러오기\n",
    "with open(\"./logs/q_values_log_sarsa.txt\", \"r\") as f:\n",
    "    for line in f:\n",
    "        if \"Episode:\" in line and \"Average Q-value:\" in line:\n",
    "            parts = line.strip().split(\", \")\n",
    "            ep = int(parts[0].split(\": \")[1])\n",
    "            q_val = float(parts[1].split(\": \")[1])\n",
    "            sarsa_episodes.append(ep)\n",
    "            sarsa_avg_q_values.append(q_val)\n",
    "\n",
    "# 하나의 그래프에 둘 다 그리기\n",
    "plt.figure()\n",
    "plt.plot(episodes, avg_q_values, label=\"Q-learning\")\n",
    "plt.plot(sarsa_episodes, sarsa_avg_q_values, label=\"SARSA\")\n",
    "plt.title(\"Q-value Convergence: Q-learning vs SARSA\")\n",
    "plt.xlabel(\"Episode\")\n",
    "plt.ylabel(\"Average Q-value\")\n",
    "plt.legend()\n",
    "plt.grid()\n",
    "plt.savefig(\"./logs/plots/q_vs_sarsa_q_value_convergence.png\")\n",
    "plt.show()"
   ]
  },
  {
   "cell_type": "code",
   "execution_count": null,
   "id": "b0230a42",
   "metadata": {
    "ExecuteTime": {
     "start_time": "2025-04-21T05:31:46.645Z"
    }
   },
   "outputs": [],
   "source": [
    "def compare_policy_heatmaps(q_agent, sarsa_agent, grid_size=(6, 6)):\n",
    "    fig, axes = plt.subplots(1, 2, figsize=(12, 5))\n",
    "\n",
    "    for ax, agent, title in zip(axes,\n",
    "                                 [q_agent, sarsa_agent],\n",
    "                                 [\"Q-Learning Policy\", \"SARSA Policy\"]):\n",
    "        policy = np.full(grid_size, -1, dtype=int)\n",
    "\n",
    "        for state, q_values in agent.q_values.items():\n",
    "            # state는 평탄화된 벡터의 인덱스 (agent가 있는 위치의 vector index)\n",
    "            cell_index = state // 3  # 셀 단위로 묶어서 몇 번째 셀인지 추출\n",
    "            x = cell_index % grid_size[0]\n",
    "            y = cell_index // grid_size[0]\n",
    "            if y < grid_size[1]:\n",
    "                policy[y, x] = int(np.argmax(q_values))\n",
    "\n",
    "        im = ax.imshow(policy, cmap='viridis', interpolation='nearest')\n",
    "        ax.set_title(title)\n",
    "        ax.set_xlabel(\"X position\")\n",
    "        ax.set_ylabel(\"Y position\")\n",
    "        ax.set_xticks(np.arange(grid_size[0]))\n",
    "        ax.set_yticks(np.arange(grid_size[1]))\n",
    "        fig.colorbar(im, ax=ax, fraction=0.046, pad=0.04)\n",
    "\n",
    "    plt.tight_layout()\n",
    "    plt.show()\n",
    "\n",
    "compare_policy_heatmaps(q_agent, sarsa_agent, grid_size=(4, 4))"
   ]
  }
 ],
 "metadata": {
  "kernelspec": {
   "display_name": "RL",
   "language": "python",
   "name": "rl"
  },
  "language_info": {
   "codemirror_mode": {
    "name": "ipython",
    "version": 3
   },
   "file_extension": ".py",
   "mimetype": "text/x-python",
   "name": "python",
   "nbconvert_exporter": "python",
   "pygments_lexer": "ipython3",
   "version": "3.9.22"
  },
  "toc": {
   "base_numbering": 1,
   "nav_menu": {},
   "number_sections": false,
   "sideBar": true,
   "skip_h1_title": false,
   "title_cell": "Table of Contents",
   "title_sidebar": "Contents",
   "toc_cell": false,
   "toc_position": {},
   "toc_section_display": true,
   "toc_window_display": false
  }
 },
 "nbformat": 4,
 "nbformat_minor": 5
}
